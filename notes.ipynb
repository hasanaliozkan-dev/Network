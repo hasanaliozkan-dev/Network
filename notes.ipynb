{
 "cells": [
  {
   "attachments": {},
   "cell_type": "markdown",
   "metadata": {},
   "source": [
    "Numpy `expand_dims()` method and PyTorch `unsqueeze()` method have the same functionalities they add a one more layer to specific dimension. "
   ]
  },
  {
   "cell_type": "code",
   "execution_count": 2,
   "metadata": {},
   "outputs": [],
   "source": [
    "import numpy as np\n",
    "import torch"
   ]
  },
  {
   "cell_type": "code",
   "execution_count": 39,
   "metadata": {},
   "outputs": [
    {
     "name": "stdout",
     "output_type": "stream",
     "text": [
      "sum initial 0.36000000000000015\n",
      "mean sum: 0.3361840000000002\n"
     ]
    }
   ],
   "source": [
    "drout= 0.5\n",
    "e_out = np.array([0.27, -1.03, 0.67, 0.99, 0.05,-0.37, -2.01, 1.13, -0.07, 0.73])\n",
    "print(f'sum initial {sum(e_out)}')\n",
    "\n",
    "sums = []\n",
    "for i in range(10000):\n",
    "    ex_out = e_out*np.random.binomial(1,1-drout,e_out.shape)/(1-drout)\n",
    "    sums.append(sum(ex_out))\n",
    "\n",
    "print(f'mean sum: {np.mean(sums)}')"
   ]
  },
  {
   "cell_type": "code",
   "execution_count": 3,
   "metadata": {},
   "outputs": [
    {
     "name": "stdout",
     "output_type": "stream",
     "text": [
      "Numpy array shape:  (1, 5)\n",
      "Tensor shape:  1\n"
     ]
    }
   ],
   "source": [
    "my_array = [1,2,3,4,5]\n",
    "\n",
    "np_arr = np.array(my_array)\n",
    "np_arr = np.expand_dims(np_arr, axis=0)\n",
    "tensor = torch.Tensor(my_array)\n",
    "tensor = torch.unsqueeze(tensor, 0)\n",
    "\n",
    "print(\"Numpy array shape: \", np_arr.shape)\n",
    "print(\"Tensor shape: \", tensor.shape)\n"
   ]
  },
  {
   "cell_type": "code",
   "execution_count": 6,
   "metadata": {},
   "outputs": [
    {
     "name": "stdout",
     "output_type": "stream",
     "text": [
      "Clipped 2-8:  [2 2 2 3 4 5 6 7 8 8]\n",
      "Clipped 8-2:  [2 2 2 2 2 2 2 2 2 2]\n"
     ]
    }
   ],
   "source": [
    "np_arr = np.arange(10)\n",
    " \n",
    "np_arr_clipped_28 = np.clip(np_arr, 2, 8)\n",
    "np_arr_clipped_82 = np.clip(np_arr, 8,2)\n",
    "print(\"Clipped 2-8: \", np_arr_clipped_28)\n",
    "print(\"Clipped 8-2: \", np_arr_clipped_82)"
   ]
  }
 ],
 "metadata": {
  "kernelspec": {
   "display_name": "Python 3",
   "language": "python",
   "name": "python3"
  },
  "language_info": {
   "codemirror_mode": {
    "name": "ipython",
    "version": 3
   },
   "file_extension": ".py",
   "mimetype": "text/x-python",
   "name": "python",
   "nbconvert_exporter": "python",
   "pygments_lexer": "ipython3",
   "version": "3.9.6"
  },
  "orig_nbformat": 4
 },
 "nbformat": 4,
 "nbformat_minor": 2
}
